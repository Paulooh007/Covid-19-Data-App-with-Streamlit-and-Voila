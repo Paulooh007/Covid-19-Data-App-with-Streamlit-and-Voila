{
 "cells": [
  {
   "cell_type": "code",
   "execution_count": 1,
   "metadata": {},
   "outputs": [],
   "source": [
    "from bs4 import BeautifulSoup\n",
    "import requests\n",
    "import pandas as pd\n",
    "import numpy as np\n",
    "\n",
    "\n",
    "def get_data():\n",
    "    \"\"\"\n",
    "      This function extracts data from the NCDC website and stores it as a pandas dataframe' \n",
    "    \"\"\"\n",
    "    PAGE_URL = \"https://covid19.ncdc.gov.ng/\"\n",
    "    \n",
    "    # Response Data\n",
    "    response_data = requests.get(PAGE_URL).text\n",
    "\n",
    "    # Initializing the BeautifulSoup package and the specifying the parser\n",
    "    soup = BeautifulSoup(response_data, 'lxml')\n",
    "    content_table = soup.find(\"table\", id=\"custom1\")\n",
    "\n",
    "    # Extracting the Table header names \n",
    "    table_headers = content_table.thead.findAll(\"tr\")\n",
    "    for k in range(len(table_headers)):\n",
    "        data = table_headers[k].find_all(\"th\")\n",
    "        column_names = [j.string.strip() for j in data]\n",
    "\n",
    "    # Extracting the data in the Table's body (values)\n",
    "    table_data = content_table.tbody.findAll('tr')\n",
    "    values = []\n",
    "    keys = []\n",
    "    data_dict = {}\n",
    "    for k in range(len(table_data)):\n",
    "        key = table_data[k].find_all(\"td\")[0].string.strip()\n",
    "        value = [j.string.strip() for j in table_data[k].find_all(\"td\")]\n",
    "        keys.append(key)\n",
    "        values.append(value)\n",
    "        data_dict[key] = value\n",
    "        \n",
    "    #Convert dictionary to dataframe   \n",
    "    data = pd.DataFrame(data_dict).T\n",
    "    data.columns = ['states', 'confirmed_cases', 'cases(on admission)', 'recovered', 'deaths']\n",
    "    data = data.reset_index(drop=True)\n",
    "    \n",
    "    #Removing the commas ( , ) between the numbers e.g 6,239\n",
    "    data['confirmed_cases'] = data['confirmed_cases'].apply(lambda x: int(re.sub(\"[^0-9]\", \"\", x)) )\n",
    "    data['cases(on admission)'] = data['cases(on admission)'].apply(lambda x: int(re.sub(\"[^0-9]\", \"\", x)) )\n",
    "    data['recovered'] = data['recovered'].apply(lambda x: int(re.sub(\"[^0-9]\", \"\", x)) )\n",
    "    data['deaths'] = data['deaths'].apply(lambda x: int(re.sub(\"[^0-9]\", \"\", x)) )\n",
    "\n",
    "    return data"
   ]
  },
  {
   "cell_type": "code",
   "execution_count": null,
   "metadata": {},
   "outputs": [],
   "source": []
  }
 ],
 "metadata": {
  "kernelspec": {
   "display_name": "Python 3",
   "language": "python",
   "name": "python3"
  },
  "language_info": {
   "codemirror_mode": {
    "name": "ipython",
    "version": 3
   },
   "file_extension": ".py",
   "mimetype": "text/x-python",
   "name": "python",
   "nbconvert_exporter": "python",
   "pygments_lexer": "ipython3",
   "version": "3.7.6"
  }
 },
 "nbformat": 4,
 "nbformat_minor": 4
}
